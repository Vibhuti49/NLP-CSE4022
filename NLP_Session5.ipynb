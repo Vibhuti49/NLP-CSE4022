{
 "cells": [
  {
   "cell_type": "code",
   "execution_count": 2,
   "metadata": {},
   "outputs": [],
   "source": [
    "import spacy\n",
    "m = spacy.load(\"en_core_web_sm\")"
   ]
  },
  {
   "cell_type": "code",
   "execution_count": 3,
   "metadata": {},
   "outputs": [],
   "source": [
    "example1 = \"Tiffany is known for its luxury goods, particularly its diamond and sterling silver jewelry. ... Tiffany & Co. was founded in 1837 by the jeweler Charles Lewis Tiffany and became famous in the early 20th century under the artistic direction of his son Louis Comfort Tiffany.\""
   ]
  },
  {
   "cell_type": "code",
   "execution_count": 4,
   "metadata": {},
   "outputs": [
    {
     "data": {
      "text/plain": [
       "Tiffany is known for its luxury goods, particularly its diamond and sterling silver jewelry. ... Tiffany & Co. was founded in 1837 by the jeweler Charles Lewis Tiffany and became famous in the early 20th century under the artistic direction of his son Louis Comfort Tiffany."
      ]
     },
     "execution_count": 4,
     "metadata": {},
     "output_type": "execute_result"
    }
   ],
   "source": [
    "doc = m(example1)\n",
    "doc"
   ]
  },
  {
   "cell_type": "code",
   "execution_count": 5,
   "metadata": {},
   "outputs": [
    {
     "name": "stdout",
     "output_type": "stream",
     "text": [
      "Tiffany & Co. ORG\n",
      "1837 DATE\n",
      "Charles Lewis Tiffany PERSON\n",
      "the early 20th century DATE\n",
      "Louis Comfort Tiffany PERSON\n"
     ]
    }
   ],
   "source": [
    "for ent in doc.ents:\n",
    "    print(ent.text,ent.label_)"
   ]
  },
  {
   "cell_type": "code",
   "execution_count": 6,
   "metadata": {},
   "outputs": [
    {
     "name": "stdout",
     "output_type": "stream",
     "text": [
      "Nile LOC\n",
      "Africa LOC\n",
      "Africa LOC\n"
     ]
    }
   ],
   "source": [
    "example2 = \"The Nile is a major north-flowing river in northeastern Africa, and is the longest river in Africa and the disputed longest river in the world\"\n",
    "doc2 = m(example2)\n",
    "for ent in doc2.ents:\n",
    "    print(ent.text,ent.label_)"
   ]
  },
  {
   "cell_type": "code",
   "execution_count": 7,
   "metadata": {},
   "outputs": [
    {
     "name": "stdout",
     "output_type": "stream",
     "text": [
      "Nearly 30,000 CARDINAL\n",
      "Pentagon ORG\n",
      "each day DATE\n",
      "approximately 6.5 million square feet QUANTITY\n",
      "Pentagon ORG\n",
      "six CARDINAL\n",
      "ZIP ORG\n"
     ]
    }
   ],
   "source": [
    "e3 = \"Nearly 30,000 military and civilian personnel work inside the Pentagon each day. Covering approximately 6.5 million square feet, the building contains a food court and mini-shopping mall. Because of its size, the Pentagon has six ZIP codes.\"\n",
    "doc3 = m(e3)\n",
    "for ent in doc3.ents:\n",
    "    print(ent.text,ent.label_)"
   ]
  },
  {
   "cell_type": "code",
   "execution_count": 8,
   "metadata": {},
   "outputs": [
    {
     "name": "stdout",
     "output_type": "stream",
     "text": [
      "Hugo von Tschudi PERSON\n",
      "Nationalgalerie GPE\n",
      "Berlin GPE\n",
      "Impressionist NORP\n",
      "Tschudi ORG\n",
      "Austria GPE\n",
      "Swiss NORP\n"
     ]
    }
   ],
   "source": [
    "e4 = \"Hugo von Tschudi (1851–1911) was an art historian and museum curator. He was director of the Nationalgalerie in Berlin (1896–1909) where he acquired many important Impressionist works. Tschudi was born in Austria and became a naturalised Swiss citizen.\"\n",
    "doc4 = m(e4)\n",
    "for ent in doc4.ents:\n",
    "    print(ent.text,ent.label_)"
   ]
  },
  {
   "cell_type": "code",
   "execution_count": 12,
   "metadata": {},
   "outputs": [
    {
     "data": {
      "text/plain": [
       "['Omnicom', 'DDB Needham', 'Kaplan Thaler Group']"
      ]
     },
     "execution_count": 12,
     "metadata": {},
     "output_type": "execute_result"
    }
   ],
   "source": [
    "#Querying\n",
    "locs = [('Omnicom', 'IN', 'New York'),('DDB Needham', 'IN', 'New York'), ('Kaplan Thaler Group', 'IN', 'New York'),('BBDO South', 'IN', 'Atlanta'), ('Georgia-Pacific', 'IN', 'Atlanta')]\n",
    "query = [e1 for(e1,rel,e2) in locs if e2 == \"New York\"]\n",
    "query"
   ]
  },
  {
   "cell_type": "code",
   "execution_count": null,
   "metadata": {},
   "outputs": [],
   "source": []
  }
 ],
 "metadata": {
  "kernelspec": {
   "display_name": "Python 3",
   "language": "python",
   "name": "python3"
  },
  "language_info": {
   "codemirror_mode": {
    "name": "ipython",
    "version": 3
   },
   "file_extension": ".py",
   "mimetype": "text/x-python",
   "name": "python",
   "nbconvert_exporter": "python",
   "pygments_lexer": "ipython3",
   "version": "3.7.3"
  }
 },
 "nbformat": 4,
 "nbformat_minor": 2
}

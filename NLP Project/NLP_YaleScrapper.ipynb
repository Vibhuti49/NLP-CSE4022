{
 "cells": [
  {
   "cell_type": "code",
   "execution_count": 1,
   "metadata": {},
   "outputs": [],
   "source": [
    "import pandas as pd\n",
    "import numpy as np\n",
    "import matplotlib.pyplot as plt\n",
    "import seaborn as sns\n",
    "%matplotlib inline\n",
    "import re\n",
    "import time\n",
    "from datetime import datetime\n",
    "import matplotlib.dates as mdates\n",
    "import matplotlib.ticker as ticker\n",
    "from urllib.request import urlopen\n",
    "from bs4 import BeautifulSoup"
   ]
  },
  {
   "cell_type": "code",
   "execution_count": 43,
   "metadata": {},
   "outputs": [],
   "source": [
    "from selenium import webdriver\n",
    "from selenium.common.exceptions import NoSuchElementException\n",
    "from selenium.webdriver.common.by import By\n",
    "from selenium.webdriver.support.ui import WebDriverWait\n",
    "from selenium.webdriver.support import expected_conditions as EC\n",
    "import dateutil.parser\n",
    "import time\n",
    "import csv\n",
    "from datetime import datetime\n",
    "import io\n",
    "import requests\n",
    "r = requests.get('https://e360.yale.edu/digest')"
   ]
  },
  {
   "cell_type": "code",
   "execution_count": 96,
   "metadata": {},
   "outputs": [],
   "source": [
    "content = r.content\n",
    "soup = BeautifulSoup(content)\n",
    "data = []\n",
    "title = []\n",
    "article = []\n",
    "url_list = []\n",
    "for d in soup.find('div', attrs={'class':'tz-compact'}):\n",
    "    for i in d:\n",
    "        head = i.find((\"a\"))\n",
    "        if head != -1:\n",
    "            url = ((head)['href'])\n",
    "            url_list.append(url)\n",
    "            title.append((str((head).contents))[2:-2])"
   ]
  },
  {
   "cell_type": "code",
   "execution_count": 113,
   "metadata": {},
   "outputs": [],
   "source": [
    "article = []\n",
    "for i in range(len(url_list)):\n",
    "    new_r  = requests.get(url_list[i])\n",
    "    content = new_r.content\n",
    "    l = []\n",
    "    str1 = \"\"\n",
    "    soup = BeautifulSoup(content)\n",
    "    for new_d in soup.findAll('div', attrs={'class':'article__block article__block--textBlock'}):\n",
    "        l.append(new_d.findAll('p'))\n",
    "    for i in l:\n",
    "        str1 += str(i)\n",
    "    article.append(i)\n",
    "        "
   ]
  },
  {
   "cell_type": "code",
   "execution_count": 114,
   "metadata": {},
   "outputs": [
    {
     "data": {
      "text/plain": [
       "10"
      ]
     },
     "execution_count": 114,
     "metadata": {},
     "output_type": "execute_result"
    }
   ],
   "source": [
    "len(article)"
   ]
  },
  {
   "cell_type": "code",
   "execution_count": 118,
   "metadata": {},
   "outputs": [
    {
     "data": {
      "text/html": [
       "<div>\n",
       "<style scoped>\n",
       "    .dataframe tbody tr th:only-of-type {\n",
       "        vertical-align: middle;\n",
       "    }\n",
       "\n",
       "    .dataframe tbody tr th {\n",
       "        vertical-align: top;\n",
       "    }\n",
       "\n",
       "    .dataframe thead th {\n",
       "        text-align: right;\n",
       "    }\n",
       "</style>\n",
       "<table border=\"1\" class=\"dataframe\">\n",
       "  <thead>\n",
       "    <tr style=\"text-align: right;\">\n",
       "      <th></th>\n",
       "      <th>Title</th>\n",
       "      <th>Content</th>\n",
       "    </tr>\n",
       "  </thead>\n",
       "  <tbody>\n",
       "    <tr>\n",
       "      <th>0</th>\n",
       "      <td>Extreme Weather Events Have Increased Signific...</td>\n",
       "      <td>[[The authors of the report said the findings ...</td>\n",
       "    </tr>\n",
       "    <tr>\n",
       "      <th>1</th>\n",
       "      <td>Mining Taking Place on More Than 20 Percent of...</td>\n",
       "      <td>[[Mining activities — both large-scale legal c...</td>\n",
       "    </tr>\n",
       "    <tr>\n",
       "      <th>2</th>\n",
       "      <td>New Super-Enzyme Can Break Down Plastic at Rap...</td>\n",
       "      <td>[[A super-enzyme that degrades plastic bottles...</td>\n",
       "    </tr>\n",
       "    <tr>\n",
       "      <th>3</th>\n",
       "      <td>As Climate Impacts Worsen, Homeowners Struggle...</td>\n",
       "      <td>[[Insurance is getting harder for some U.S. ho...</td>\n",
       "    </tr>\n",
       "    <tr>\n",
       "      <th>4</th>\n",
       "      <td>Human Activity is Increasing Severity and Freq...</td>\n",
       "      <td>[[Marine heatwaves have become more than 20 ti...</td>\n",
       "    </tr>\n",
       "    <tr>\n",
       "      <th>5</th>\n",
       "      <td>The World’s Largest Wind Turbines to Be Used f...</td>\n",
       "      <td>[[The world’s largest offshore wind project — ...</td>\n",
       "    </tr>\n",
       "    <tr>\n",
       "      <th>6</th>\n",
       "      <td>Ecuador’s Highest Court Will Allow Communities...</td>\n",
       "      <td>[[Ecuador’s Constitutional Court has ruled tha...</td>\n",
       "    </tr>\n",
       "    <tr>\n",
       "      <th>7</th>\n",
       "      <td>Could New Fungi-Based Leather Replace the Real...</td>\n",
       "      <td>[[Scientists have found that new faux-leather ...</td>\n",
       "    </tr>\n",
       "    <tr>\n",
       "      <th>8</th>\n",
       "      <td>Scientists Report Mass Migratory Bird Deaths i...</td>\n",
       "      <td>[[Scientists and birdwatchers are reporting a ...</td>\n",
       "    </tr>\n",
       "    <tr>\n",
       "      <th>9</th>\n",
       "      <td>The Arctic Is Shifting to a New Climate State,...</td>\n",
       "      <td>[[The Arctic is transitioning from a frozen re...</td>\n",
       "    </tr>\n",
       "  </tbody>\n",
       "</table>\n",
       "</div>"
      ],
      "text/plain": [
       "                                               Title  \\\n",
       "0  Extreme Weather Events Have Increased Signific...   \n",
       "1  Mining Taking Place on More Than 20 Percent of...   \n",
       "2  New Super-Enzyme Can Break Down Plastic at Rap...   \n",
       "3  As Climate Impacts Worsen, Homeowners Struggle...   \n",
       "4  Human Activity is Increasing Severity and Freq...   \n",
       "5  The World’s Largest Wind Turbines to Be Used f...   \n",
       "6  Ecuador’s Highest Court Will Allow Communities...   \n",
       "7  Could New Fungi-Based Leather Replace the Real...   \n",
       "8  Scientists Report Mass Migratory Bird Deaths i...   \n",
       "9  The Arctic Is Shifting to a New Climate State,...   \n",
       "\n",
       "                                             Content  \n",
       "0  [[The authors of the report said the findings ...  \n",
       "1  [[Mining activities — both large-scale legal c...  \n",
       "2  [[A super-enzyme that degrades plastic bottles...  \n",
       "3  [[Insurance is getting harder for some U.S. ho...  \n",
       "4  [[Marine heatwaves have become more than 20 ti...  \n",
       "5  [[The world’s largest offshore wind project — ...  \n",
       "6  [[Ecuador’s Constitutional Court has ruled tha...  \n",
       "7  [[Scientists have found that new faux-leather ...  \n",
       "8  [[Scientists and birdwatchers are reporting a ...  \n",
       "9  [[The Arctic is transitioning from a frozen re...  "
      ]
     },
     "execution_count": 118,
     "metadata": {},
     "output_type": "execute_result"
    }
   ],
   "source": [
    "df = pd.DataFrame()\n",
    "df['Title'] = title\n",
    "df['Content'] = article\n",
    "df"
   ]
  },
  {
   "cell_type": "code",
   "execution_count": 122,
   "metadata": {},
   "outputs": [],
   "source": [
    "df.to_csv(\"yale.csv\")"
   ]
  },
  {
   "cell_type": "code",
   "execution_count": null,
   "metadata": {},
   "outputs": [],
   "source": []
  }
 ],
 "metadata": {
  "kernelspec": {
   "display_name": "Python 3",
   "language": "python",
   "name": "python3"
  },
  "language_info": {
   "codemirror_mode": {
    "name": "ipython",
    "version": 3
   },
   "file_extension": ".py",
   "mimetype": "text/x-python",
   "name": "python",
   "nbconvert_exporter": "python",
   "pygments_lexer": "ipython3",
   "version": "3.7.3"
  }
 },
 "nbformat": 4,
 "nbformat_minor": 2
}
